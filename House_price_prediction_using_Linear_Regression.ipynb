{
  "cells": [
    {
      "cell_type": "markdown",
      "metadata": {
        "id": "view-in-github",
        "colab_type": "text"
      },
      "source": [
        "<a href=\"https://colab.research.google.com/github/meghadasireddy/House-Price-Prediction-using-Linear-Regression/blob/main/House_price_prediction_using_Linear_Regression.ipynb\" target=\"_parent\"><img src=\"https://colab.research.google.com/assets/colab-badge.svg\" alt=\"Open In Colab\"/></a>"
      ]
    },
    {
      "cell_type": "code",
      "source": [
        "import numpy as np\n",
        "import pandas as pd\n",
        "import matplotlib.pyplot as plt\n",
        "from sklearn .model_selection import train_test_split\n",
        "\n",
        "# load the dataset\n",
        "data = pd.read_csv(\"/content/houseprice.csv\")\n",
        "data"
      ],
      "metadata": {
        "colab": {
          "base_uri": "https://localhost:8080/",
          "height": 423
        },
        "id": "F1r4mk-M-zcA",
        "outputId": "838331b0-b5e9-454b-cb7e-ba5d4d73f0fd"
      },
      "execution_count": 1,
      "outputs": [
        {
          "output_type": "execute_result",
          "data": {
            "text/plain": [
              "       price  bedrooms  bathrooms  floors  waterfront  condition\n",
              "0     313000         3       1.50     1.5           0       1340\n",
              "1    2384000         5       2.50     2.0           0       3370\n",
              "2     342000         3       2.00     1.0           0       1930\n",
              "3     420000         3       2.25     1.0           0       1000\n",
              "4     550000         4       2.50     1.0           0       1140\n",
              "..       ...       ...        ...     ...         ...        ...\n",
              "194   280000         3       1.75     1.0           0       1630\n",
              "195   515000         3       2.50     2.0           0       1790\n",
              "196   513000         4       2.50     2.0           0       2000\n",
              "197   599000         4       2.25     2.0           0       1400\n",
              "198   685000         4       2.50     2.0           0       3030\n",
              "\n",
              "[199 rows x 6 columns]"
            ],
            "text/html": [
              "\n",
              "  <div id=\"df-f94a8357-a74e-40a4-8e71-5cd308dad93d\" class=\"colab-df-container\">\n",
              "    <div>\n",
              "<style scoped>\n",
              "    .dataframe tbody tr th:only-of-type {\n",
              "        vertical-align: middle;\n",
              "    }\n",
              "\n",
              "    .dataframe tbody tr th {\n",
              "        vertical-align: top;\n",
              "    }\n",
              "\n",
              "    .dataframe thead th {\n",
              "        text-align: right;\n",
              "    }\n",
              "</style>\n",
              "<table border=\"1\" class=\"dataframe\">\n",
              "  <thead>\n",
              "    <tr style=\"text-align: right;\">\n",
              "      <th></th>\n",
              "      <th>price</th>\n",
              "      <th>bedrooms</th>\n",
              "      <th>bathrooms</th>\n",
              "      <th>floors</th>\n",
              "      <th>waterfront</th>\n",
              "      <th>condition</th>\n",
              "    </tr>\n",
              "  </thead>\n",
              "  <tbody>\n",
              "    <tr>\n",
              "      <th>0</th>\n",
              "      <td>313000</td>\n",
              "      <td>3</td>\n",
              "      <td>1.50</td>\n",
              "      <td>1.5</td>\n",
              "      <td>0</td>\n",
              "      <td>1340</td>\n",
              "    </tr>\n",
              "    <tr>\n",
              "      <th>1</th>\n",
              "      <td>2384000</td>\n",
              "      <td>5</td>\n",
              "      <td>2.50</td>\n",
              "      <td>2.0</td>\n",
              "      <td>0</td>\n",
              "      <td>3370</td>\n",
              "    </tr>\n",
              "    <tr>\n",
              "      <th>2</th>\n",
              "      <td>342000</td>\n",
              "      <td>3</td>\n",
              "      <td>2.00</td>\n",
              "      <td>1.0</td>\n",
              "      <td>0</td>\n",
              "      <td>1930</td>\n",
              "    </tr>\n",
              "    <tr>\n",
              "      <th>3</th>\n",
              "      <td>420000</td>\n",
              "      <td>3</td>\n",
              "      <td>2.25</td>\n",
              "      <td>1.0</td>\n",
              "      <td>0</td>\n",
              "      <td>1000</td>\n",
              "    </tr>\n",
              "    <tr>\n",
              "      <th>4</th>\n",
              "      <td>550000</td>\n",
              "      <td>4</td>\n",
              "      <td>2.50</td>\n",
              "      <td>1.0</td>\n",
              "      <td>0</td>\n",
              "      <td>1140</td>\n",
              "    </tr>\n",
              "    <tr>\n",
              "      <th>...</th>\n",
              "      <td>...</td>\n",
              "      <td>...</td>\n",
              "      <td>...</td>\n",
              "      <td>...</td>\n",
              "      <td>...</td>\n",
              "      <td>...</td>\n",
              "    </tr>\n",
              "    <tr>\n",
              "      <th>194</th>\n",
              "      <td>280000</td>\n",
              "      <td>3</td>\n",
              "      <td>1.75</td>\n",
              "      <td>1.0</td>\n",
              "      <td>0</td>\n",
              "      <td>1630</td>\n",
              "    </tr>\n",
              "    <tr>\n",
              "      <th>195</th>\n",
              "      <td>515000</td>\n",
              "      <td>3</td>\n",
              "      <td>2.50</td>\n",
              "      <td>2.0</td>\n",
              "      <td>0</td>\n",
              "      <td>1790</td>\n",
              "    </tr>\n",
              "    <tr>\n",
              "      <th>196</th>\n",
              "      <td>513000</td>\n",
              "      <td>4</td>\n",
              "      <td>2.50</td>\n",
              "      <td>2.0</td>\n",
              "      <td>0</td>\n",
              "      <td>2000</td>\n",
              "    </tr>\n",
              "    <tr>\n",
              "      <th>197</th>\n",
              "      <td>599000</td>\n",
              "      <td>4</td>\n",
              "      <td>2.25</td>\n",
              "      <td>2.0</td>\n",
              "      <td>0</td>\n",
              "      <td>1400</td>\n",
              "    </tr>\n",
              "    <tr>\n",
              "      <th>198</th>\n",
              "      <td>685000</td>\n",
              "      <td>4</td>\n",
              "      <td>2.50</td>\n",
              "      <td>2.0</td>\n",
              "      <td>0</td>\n",
              "      <td>3030</td>\n",
              "    </tr>\n",
              "  </tbody>\n",
              "</table>\n",
              "<p>199 rows × 6 columns</p>\n",
              "</div>\n",
              "    <div class=\"colab-df-buttons\">\n",
              "\n",
              "  <div class=\"colab-df-container\">\n",
              "    <button class=\"colab-df-convert\" onclick=\"convertToInteractive('df-f94a8357-a74e-40a4-8e71-5cd308dad93d')\"\n",
              "            title=\"Convert this dataframe to an interactive table.\"\n",
              "            style=\"display:none;\">\n",
              "\n",
              "  <svg xmlns=\"http://www.w3.org/2000/svg\" height=\"24px\" viewBox=\"0 -960 960 960\">\n",
              "    <path d=\"M120-120v-720h720v720H120Zm60-500h600v-160H180v160Zm220 220h160v-160H400v160Zm0 220h160v-160H400v160ZM180-400h160v-160H180v160Zm440 0h160v-160H620v160ZM180-180h160v-160H180v160Zm440 0h160v-160H620v160Z\"/>\n",
              "  </svg>\n",
              "    </button>\n",
              "\n",
              "  <style>\n",
              "    .colab-df-container {\n",
              "      display:flex;\n",
              "      gap: 12px;\n",
              "    }\n",
              "\n",
              "    .colab-df-convert {\n",
              "      background-color: #E8F0FE;\n",
              "      border: none;\n",
              "      border-radius: 50%;\n",
              "      cursor: pointer;\n",
              "      display: none;\n",
              "      fill: #1967D2;\n",
              "      height: 32px;\n",
              "      padding: 0 0 0 0;\n",
              "      width: 32px;\n",
              "    }\n",
              "\n",
              "    .colab-df-convert:hover {\n",
              "      background-color: #E2EBFA;\n",
              "      box-shadow: 0px 1px 2px rgba(60, 64, 67, 0.3), 0px 1px 3px 1px rgba(60, 64, 67, 0.15);\n",
              "      fill: #174EA6;\n",
              "    }\n",
              "\n",
              "    .colab-df-buttons div {\n",
              "      margin-bottom: 4px;\n",
              "    }\n",
              "\n",
              "    [theme=dark] .colab-df-convert {\n",
              "      background-color: #3B4455;\n",
              "      fill: #D2E3FC;\n",
              "    }\n",
              "\n",
              "    [theme=dark] .colab-df-convert:hover {\n",
              "      background-color: #434B5C;\n",
              "      box-shadow: 0px 1px 3px 1px rgba(0, 0, 0, 0.15);\n",
              "      filter: drop-shadow(0px 1px 2px rgba(0, 0, 0, 0.3));\n",
              "      fill: #FFFFFF;\n",
              "    }\n",
              "  </style>\n",
              "\n",
              "    <script>\n",
              "      const buttonEl =\n",
              "        document.querySelector('#df-f94a8357-a74e-40a4-8e71-5cd308dad93d button.colab-df-convert');\n",
              "      buttonEl.style.display =\n",
              "        google.colab.kernel.accessAllowed ? 'block' : 'none';\n",
              "\n",
              "      async function convertToInteractive(key) {\n",
              "        const element = document.querySelector('#df-f94a8357-a74e-40a4-8e71-5cd308dad93d');\n",
              "        const dataTable =\n",
              "          await google.colab.kernel.invokeFunction('convertToInteractive',\n",
              "                                                    [key], {});\n",
              "        if (!dataTable) return;\n",
              "\n",
              "        const docLinkHtml = 'Like what you see? Visit the ' +\n",
              "          '<a target=\"_blank\" href=https://colab.research.google.com/notebooks/data_table.ipynb>data table notebook</a>'\n",
              "          + ' to learn more about interactive tables.';\n",
              "        element.innerHTML = '';\n",
              "        dataTable['output_type'] = 'display_data';\n",
              "        await google.colab.output.renderOutput(dataTable, element);\n",
              "        const docLink = document.createElement('div');\n",
              "        docLink.innerHTML = docLinkHtml;\n",
              "        element.appendChild(docLink);\n",
              "      }\n",
              "    </script>\n",
              "  </div>\n",
              "\n",
              "\n",
              "    <div id=\"df-94ce7c4b-78e2-4b65-a09e-04d532c58a52\">\n",
              "      <button class=\"colab-df-quickchart\" onclick=\"quickchart('df-94ce7c4b-78e2-4b65-a09e-04d532c58a52')\"\n",
              "                title=\"Suggest charts\"\n",
              "                style=\"display:none;\">\n",
              "\n",
              "<svg xmlns=\"http://www.w3.org/2000/svg\" height=\"24px\"viewBox=\"0 0 24 24\"\n",
              "     width=\"24px\">\n",
              "    <g>\n",
              "        <path d=\"M19 3H5c-1.1 0-2 .9-2 2v14c0 1.1.9 2 2 2h14c1.1 0 2-.9 2-2V5c0-1.1-.9-2-2-2zM9 17H7v-7h2v7zm4 0h-2V7h2v10zm4 0h-2v-4h2v4z\"/>\n",
              "    </g>\n",
              "</svg>\n",
              "      </button>\n",
              "\n",
              "<style>\n",
              "  .colab-df-quickchart {\n",
              "      --bg-color: #E8F0FE;\n",
              "      --fill-color: #1967D2;\n",
              "      --hover-bg-color: #E2EBFA;\n",
              "      --hover-fill-color: #174EA6;\n",
              "      --disabled-fill-color: #AAA;\n",
              "      --disabled-bg-color: #DDD;\n",
              "  }\n",
              "\n",
              "  [theme=dark] .colab-df-quickchart {\n",
              "      --bg-color: #3B4455;\n",
              "      --fill-color: #D2E3FC;\n",
              "      --hover-bg-color: #434B5C;\n",
              "      --hover-fill-color: #FFFFFF;\n",
              "      --disabled-bg-color: #3B4455;\n",
              "      --disabled-fill-color: #666;\n",
              "  }\n",
              "\n",
              "  .colab-df-quickchart {\n",
              "    background-color: var(--bg-color);\n",
              "    border: none;\n",
              "    border-radius: 50%;\n",
              "    cursor: pointer;\n",
              "    display: none;\n",
              "    fill: var(--fill-color);\n",
              "    height: 32px;\n",
              "    padding: 0;\n",
              "    width: 32px;\n",
              "  }\n",
              "\n",
              "  .colab-df-quickchart:hover {\n",
              "    background-color: var(--hover-bg-color);\n",
              "    box-shadow: 0 1px 2px rgba(60, 64, 67, 0.3), 0 1px 3px 1px rgba(60, 64, 67, 0.15);\n",
              "    fill: var(--button-hover-fill-color);\n",
              "  }\n",
              "\n",
              "  .colab-df-quickchart-complete:disabled,\n",
              "  .colab-df-quickchart-complete:disabled:hover {\n",
              "    background-color: var(--disabled-bg-color);\n",
              "    fill: var(--disabled-fill-color);\n",
              "    box-shadow: none;\n",
              "  }\n",
              "\n",
              "  .colab-df-spinner {\n",
              "    border: 2px solid var(--fill-color);\n",
              "    border-color: transparent;\n",
              "    border-bottom-color: var(--fill-color);\n",
              "    animation:\n",
              "      spin 1s steps(1) infinite;\n",
              "  }\n",
              "\n",
              "  @keyframes spin {\n",
              "    0% {\n",
              "      border-color: transparent;\n",
              "      border-bottom-color: var(--fill-color);\n",
              "      border-left-color: var(--fill-color);\n",
              "    }\n",
              "    20% {\n",
              "      border-color: transparent;\n",
              "      border-left-color: var(--fill-color);\n",
              "      border-top-color: var(--fill-color);\n",
              "    }\n",
              "    30% {\n",
              "      border-color: transparent;\n",
              "      border-left-color: var(--fill-color);\n",
              "      border-top-color: var(--fill-color);\n",
              "      border-right-color: var(--fill-color);\n",
              "    }\n",
              "    40% {\n",
              "      border-color: transparent;\n",
              "      border-right-color: var(--fill-color);\n",
              "      border-top-color: var(--fill-color);\n",
              "    }\n",
              "    60% {\n",
              "      border-color: transparent;\n",
              "      border-right-color: var(--fill-color);\n",
              "    }\n",
              "    80% {\n",
              "      border-color: transparent;\n",
              "      border-right-color: var(--fill-color);\n",
              "      border-bottom-color: var(--fill-color);\n",
              "    }\n",
              "    90% {\n",
              "      border-color: transparent;\n",
              "      border-bottom-color: var(--fill-color);\n",
              "    }\n",
              "  }\n",
              "</style>\n",
              "\n",
              "      <script>\n",
              "        async function quickchart(key) {\n",
              "          const quickchartButtonEl =\n",
              "            document.querySelector('#' + key + ' button');\n",
              "          quickchartButtonEl.disabled = true;  // To prevent multiple clicks.\n",
              "          quickchartButtonEl.classList.add('colab-df-spinner');\n",
              "          try {\n",
              "            const charts = await google.colab.kernel.invokeFunction(\n",
              "                'suggestCharts', [key], {});\n",
              "          } catch (error) {\n",
              "            console.error('Error during call to suggestCharts:', error);\n",
              "          }\n",
              "          quickchartButtonEl.classList.remove('colab-df-spinner');\n",
              "          quickchartButtonEl.classList.add('colab-df-quickchart-complete');\n",
              "        }\n",
              "        (() => {\n",
              "          let quickchartButtonEl =\n",
              "            document.querySelector('#df-94ce7c4b-78e2-4b65-a09e-04d532c58a52 button');\n",
              "          quickchartButtonEl.style.display =\n",
              "            google.colab.kernel.accessAllowed ? 'block' : 'none';\n",
              "        })();\n",
              "      </script>\n",
              "    </div>\n",
              "\n",
              "  <div id=\"id_c2dc8a28-01e7-4a89-8223-2b7d165375d3\">\n",
              "    <style>\n",
              "      .colab-df-generate {\n",
              "        background-color: #E8F0FE;\n",
              "        border: none;\n",
              "        border-radius: 50%;\n",
              "        cursor: pointer;\n",
              "        display: none;\n",
              "        fill: #1967D2;\n",
              "        height: 32px;\n",
              "        padding: 0 0 0 0;\n",
              "        width: 32px;\n",
              "      }\n",
              "\n",
              "      .colab-df-generate:hover {\n",
              "        background-color: #E2EBFA;\n",
              "        box-shadow: 0px 1px 2px rgba(60, 64, 67, 0.3), 0px 1px 3px 1px rgba(60, 64, 67, 0.15);\n",
              "        fill: #174EA6;\n",
              "      }\n",
              "\n",
              "      [theme=dark] .colab-df-generate {\n",
              "        background-color: #3B4455;\n",
              "        fill: #D2E3FC;\n",
              "      }\n",
              "\n",
              "      [theme=dark] .colab-df-generate:hover {\n",
              "        background-color: #434B5C;\n",
              "        box-shadow: 0px 1px 3px 1px rgba(0, 0, 0, 0.15);\n",
              "        filter: drop-shadow(0px 1px 2px rgba(0, 0, 0, 0.3));\n",
              "        fill: #FFFFFF;\n",
              "      }\n",
              "    </style>\n",
              "    <button class=\"colab-df-generate\" onclick=\"generateWithVariable('data')\"\n",
              "            title=\"Generate code using this dataframe.\"\n",
              "            style=\"display:none;\">\n",
              "\n",
              "  <svg xmlns=\"http://www.w3.org/2000/svg\" height=\"24px\"viewBox=\"0 0 24 24\"\n",
              "       width=\"24px\">\n",
              "    <path d=\"M7,19H8.4L18.45,9,17,7.55,7,17.6ZM5,21V16.75L18.45,3.32a2,2,0,0,1,2.83,0l1.4,1.43a1.91,1.91,0,0,1,.58,1.4,1.91,1.91,0,0,1-.58,1.4L9.25,21ZM18.45,9,17,7.55Zm-12,3A5.31,5.31,0,0,0,4.9,8.1,5.31,5.31,0,0,0,1,6.5,5.31,5.31,0,0,0,4.9,4.9,5.31,5.31,0,0,0,6.5,1,5.31,5.31,0,0,0,8.1,4.9,5.31,5.31,0,0,0,12,6.5,5.46,5.46,0,0,0,6.5,12Z\"/>\n",
              "  </svg>\n",
              "    </button>\n",
              "    <script>\n",
              "      (() => {\n",
              "      const buttonEl =\n",
              "        document.querySelector('#id_c2dc8a28-01e7-4a89-8223-2b7d165375d3 button.colab-df-generate');\n",
              "      buttonEl.style.display =\n",
              "        google.colab.kernel.accessAllowed ? 'block' : 'none';\n",
              "\n",
              "      buttonEl.onclick = () => {\n",
              "        google.colab.notebook.generateWithVariable('data');\n",
              "      }\n",
              "      })();\n",
              "    </script>\n",
              "  </div>\n",
              "\n",
              "    </div>\n",
              "  </div>\n"
            ],
            "application/vnd.google.colaboratory.intrinsic+json": {
              "type": "dataframe",
              "variable_name": "data",
              "summary": "{\n  \"name\": \"data\",\n  \"rows\": 199,\n  \"fields\": [\n    {\n      \"column\": \"price\",\n      \"properties\": {\n        \"dtype\": \"number\",\n        \"std\": 290893,\n        \"min\": 136500,\n        \"max\": 2384000,\n        \"num_unique_values\": 177,\n        \"samples\": [\n          275000,\n          407500,\n          469000\n        ],\n        \"semantic_type\": \"\",\n        \"description\": \"\"\n      }\n    },\n    {\n      \"column\": \"bedrooms\",\n      \"properties\": {\n        \"dtype\": \"number\",\n        \"std\": 0,\n        \"min\": 2,\n        \"max\": 7,\n        \"num_unique_values\": 6,\n        \"samples\": [\n          3,\n          5,\n          7\n        ],\n        \"semantic_type\": \"\",\n        \"description\": \"\"\n      }\n    },\n    {\n      \"column\": \"bathrooms\",\n      \"properties\": {\n        \"dtype\": \"number\",\n        \"std\": 0.7507567709656734,\n        \"min\": 1.0,\n        \"max\": 8.0,\n        \"num_unique_values\": 12,\n        \"samples\": [\n          8.0,\n          3.5,\n          1.5\n        ],\n        \"semantic_type\": \"\",\n        \"description\": \"\"\n      }\n    },\n    {\n      \"column\": \"floors\",\n      \"properties\": {\n        \"dtype\": \"number\",\n        \"std\": 0.5537685079782019,\n        \"min\": 1.0,\n        \"max\": 3.0,\n        \"num_unique_values\": 5,\n        \"samples\": [\n          2.0,\n          3.0,\n          1.0\n        ],\n        \"semantic_type\": \"\",\n        \"description\": \"\"\n      }\n    },\n    {\n      \"column\": \"waterfront\",\n      \"properties\": {\n        \"dtype\": \"number\",\n        \"std\": 0,\n        \"min\": 0,\n        \"max\": 0,\n        \"num_unique_values\": 1,\n        \"samples\": [\n          0\n        ],\n        \"semantic_type\": \"\",\n        \"description\": \"\"\n      }\n    },\n    {\n      \"column\": \"condition\",\n      \"properties\": {\n        \"dtype\": \"number\",\n        \"std\": 915,\n        \"min\": 720,\n        \"max\": 9410,\n        \"num_unique_values\": 127,\n        \"samples\": [\n          2820\n        ],\n        \"semantic_type\": \"\",\n        \"description\": \"\"\n      }\n    }\n  ]\n}"
            }
          },
          "metadata": {},
          "execution_count": 1
        }
      ]
    },
    {
      "cell_type": "markdown",
      "source": [
        "# New Section"
      ],
      "metadata": {
        "id": "XveX0t7xvUcz"
      }
    },
    {
      "cell_type": "code",
      "source": [
        "data.info()"
      ],
      "metadata": {
        "colab": {
          "base_uri": "https://localhost:8080/"
        },
        "id": "1JcMNQ_w-4xu",
        "outputId": "9ac5d8ea-ccc5-475a-f3d1-fcd0e8a57a35"
      },
      "execution_count": null,
      "outputs": [
        {
          "output_type": "stream",
          "name": "stdout",
          "text": [
            "<class 'pandas.core.frame.DataFrame'>\n",
            "RangeIndex: 199 entries, 0 to 198\n",
            "Data columns (total 6 columns):\n",
            " #   Column      Non-Null Count  Dtype  \n",
            "---  ------      --------------  -----  \n",
            " 0   price       199 non-null    int64  \n",
            " 1   bedrooms    199 non-null    int64  \n",
            " 2   bathrooms   199 non-null    float64\n",
            " 3   floors      199 non-null    float64\n",
            " 4   waterfront  199 non-null    int64  \n",
            " 5   condition   199 non-null    int64  \n",
            "dtypes: float64(2), int64(4)\n",
            "memory usage: 9.5 KB\n"
          ]
        }
      ]
    },
    {
      "cell_type": "code",
      "source": [
        "# select the feature (independent variable) and target (dependent variable) columns\n",
        "X = data['floors'].values\n",
        "y = data['price'].values\n",
        "X"
      ],
      "metadata": {
        "colab": {
          "base_uri": "https://localhost:8080/"
        },
        "id": "JXT6NFGw_EYN",
        "outputId": "ae2fcaf8-4527-4b3c-84a4-472bd8040e89"
      },
      "execution_count": null,
      "outputs": [
        {
          "output_type": "execute_result",
          "data": {
            "text/plain": [
              "array([1.5, 2. , 1. , 1. , 1. , 1. , 1. , 2. , 1. , 1.5, 1. , 1.5, 1. ,\n",
              "       1. , 1.5, 1. , 1. , 2. , 1. , 1. , 2. , 1. , 2.5, 2. , 1. , 1. ,\n",
              "       1. , 1.5, 2. , 1. , 1. , 2. , 1.5, 2. , 1.5, 2. , 1. , 1. , 1. ,\n",
              "       1. , 1. , 1. , 1. , 2. , 1. , 1. , 2. , 2. , 3. , 2. , 2. , 1.5,\n",
              "       1.5, 1. , 1. , 1. , 1. , 2. , 2. , 2. , 2. , 2. , 1. , 2. , 2. ,\n",
              "       1. , 1. , 1. , 1. , 1. , 2. , 2. , 1. , 2. , 1. , 2. , 2. , 2. ,\n",
              "       1. , 2. , 1. , 2. , 1. , 1. , 1. , 1. , 1. , 2.5, 2. , 1. , 2. ,\n",
              "       1. , 2.5, 1.5, 1. , 1. , 3. , 1. , 3. , 2. , 2. , 1. , 1. , 2. ,\n",
              "       1. , 2. , 1. , 2.5, 1. , 1. , 1. , 2. , 1. , 1. , 1.5, 1.5, 2. ,\n",
              "       1. , 1. , 1. , 1. , 1. , 3. , 2. , 1. , 1.5, 1.5, 1.5, 1. , 2. ,\n",
              "       2. , 1. , 1. , 2. , 1.5, 1. , 1. , 1. , 2. , 2. , 2. , 2. , 2. ,\n",
              "       2. , 3. , 2.5, 3. , 2. , 2. , 2. , 2. , 1. , 1.5, 1. , 2. , 1. ,\n",
              "       2. , 1. , 1. , 1.5, 1. , 2. , 1. , 1. , 1. , 1. , 1. , 1. , 1. ,\n",
              "       1. , 1.5, 2. , 1. , 2. , 1. , 2. , 2. , 1. , 1. , 2. , 1. , 2. ,\n",
              "       2. , 1. , 1. , 2. , 1. , 1. , 1. , 2. , 1. , 1. , 1. , 2. , 1. ,\n",
              "       2. , 2. , 2. , 2. ])"
            ]
          },
          "metadata": {},
          "execution_count": 19
        }
      ]
    },
    {
      "cell_type": "code",
      "source": [
        "y"
      ],
      "metadata": {
        "colab": {
          "base_uri": "https://localhost:8080/"
        },
        "id": "LC3gAE9T_HAP",
        "outputId": "a6f10ef5-4ffc-4127-9e27-8c38128a338e"
      },
      "execution_count": null,
      "outputs": [
        {
          "output_type": "execute_result",
          "data": {
            "text/plain": [
              "array([ 313000, 2384000,  342000,  420000,  550000,  490000,  335000,\n",
              "        482000,  452500,  640000,  463000, 1400000,  588500,  365000,\n",
              "       1200000,  242500,  419000,  367500,  257950,  275000,  750000,\n",
              "        435000,  626000,  612500,  495000,  285000,  615000,  698000,\n",
              "        675000,  790000,  382500,  499950,  650000,  625000,  400000,\n",
              "        604000,  440000,  287200,  403000,  750000,  335000,  260000,\n",
              "        308500,  439950,  235000,  315000,  437500,  407500,  445700,\n",
              "        838000,  630000,  550000,  805000,  284000,  470000,  430000,\n",
              "        491500,  785000,  385000,  295000,  555000,  459990,  625000,\n",
              "        300000,  625000,  553000,  379880,  310000,  775000,  365000,\n",
              "        331950,  783500,  628000,  560000,  900000,  531000,  831000,\n",
              "        780000,  755000,  705380,  627000,  865000,  580000,  410000,\n",
              "        485000,  400000,  549000,  620000,  405000,  232000,  800866,\n",
              "        650000,  823000,  770000,  524000,  541125,  670000,  384900,\n",
              "        406100, 1395000,  736500,  570000,  787000,  328000,  435000,\n",
              "        499000,  501000, 1090000,  400000,  220000,  657100,  309950,\n",
              "        300000,  525888,  740000,  340000,  398750,  206000, 1030000,\n",
              "        600000,  379950,  287000, 2280000,  309950,  600000,  418000,\n",
              "        449250,  329950,  245000,  549000,  800000,  249950,  210000,\n",
              "       1425000,  585000,  615000,  618500,  487585,  509900,  631625,\n",
              "        555000,  340000,  830000,  890000,  366750,  415000,  416286,\n",
              "        478000,  890000,  419190,  712198,  397000,  450000,  353000,\n",
              "        609000,  234000,  561000,  469000,  329350,  488000,  279900,\n",
              "        606000,  312000,  650000, 1135000,  325000,  425000,  219000,\n",
              "        250000,  390000,  475000,  736000,  407000,  272000,  362000,\n",
              "        535000,  284000,  367500,  379900,  520000,  175000,  460000,\n",
              "        345000,  455000,  610000,  563000,  612500,  218000,  404000,\n",
              "        860000,  136500,  313950,  575000, 1225000,  280000,  515000,\n",
              "        513000,  599000,  685000])"
            ]
          },
          "metadata": {},
          "execution_count": 20
        }
      ]
    },
    {
      "cell_type": "code",
      "source": [
        "# normalize the feature\n",
        "X = (X - np.mean(X)) / np.std(X)"
      ],
      "metadata": {
        "id": "45XXQgGO_KXp"
      },
      "execution_count": null,
      "outputs": []
    },
    {
      "cell_type": "code",
      "source": [
        "X"
      ],
      "metadata": {
        "colab": {
          "base_uri": "https://localhost:8080/"
        },
        "id": "0tvDGcyw_PP7",
        "outputId": "7ae5a33a-7b4c-434c-c7f3-5bea06280c24"
      },
      "execution_count": null,
      "outputs": [
        {
          "output_type": "execute_result",
          "data": {
            "text/plain": [
              "array([ 0.02274326,  0.9279248 , -0.88243829, -0.88243829, -0.88243829,\n",
              "       -0.88243829, -0.88243829,  0.9279248 , -0.88243829,  0.02274326,\n",
              "       -0.88243829,  0.02274326, -0.88243829, -0.88243829,  0.02274326,\n",
              "       -0.88243829, -0.88243829,  0.9279248 , -0.88243829, -0.88243829,\n",
              "        0.9279248 , -0.88243829,  1.83310635,  0.9279248 , -0.88243829,\n",
              "       -0.88243829, -0.88243829,  0.02274326,  0.9279248 , -0.88243829,\n",
              "       -0.88243829,  0.9279248 ,  0.02274326,  0.9279248 ,  0.02274326,\n",
              "        0.9279248 , -0.88243829, -0.88243829, -0.88243829, -0.88243829,\n",
              "       -0.88243829, -0.88243829, -0.88243829,  0.9279248 , -0.88243829,\n",
              "       -0.88243829,  0.9279248 ,  0.9279248 ,  2.7382879 ,  0.9279248 ,\n",
              "        0.9279248 ,  0.02274326,  0.02274326, -0.88243829, -0.88243829,\n",
              "       -0.88243829, -0.88243829,  0.9279248 ,  0.9279248 ,  0.9279248 ,\n",
              "        0.9279248 ,  0.9279248 , -0.88243829,  0.9279248 ,  0.9279248 ,\n",
              "       -0.88243829, -0.88243829, -0.88243829, -0.88243829, -0.88243829,\n",
              "        0.9279248 ,  0.9279248 , -0.88243829,  0.9279248 , -0.88243829,\n",
              "        0.9279248 ,  0.9279248 ,  0.9279248 , -0.88243829,  0.9279248 ,\n",
              "       -0.88243829,  0.9279248 , -0.88243829, -0.88243829, -0.88243829,\n",
              "       -0.88243829, -0.88243829,  1.83310635,  0.9279248 , -0.88243829,\n",
              "        0.9279248 , -0.88243829,  1.83310635,  0.02274326, -0.88243829,\n",
              "       -0.88243829,  2.7382879 , -0.88243829,  2.7382879 ,  0.9279248 ,\n",
              "        0.9279248 , -0.88243829, -0.88243829,  0.9279248 , -0.88243829,\n",
              "        0.9279248 , -0.88243829,  1.83310635, -0.88243829, -0.88243829,\n",
              "       -0.88243829,  0.9279248 , -0.88243829, -0.88243829,  0.02274326,\n",
              "        0.02274326,  0.9279248 , -0.88243829, -0.88243829, -0.88243829,\n",
              "       -0.88243829, -0.88243829,  2.7382879 ,  0.9279248 , -0.88243829,\n",
              "        0.02274326,  0.02274326,  0.02274326, -0.88243829,  0.9279248 ,\n",
              "        0.9279248 , -0.88243829, -0.88243829,  0.9279248 ,  0.02274326,\n",
              "       -0.88243829, -0.88243829, -0.88243829,  0.9279248 ,  0.9279248 ,\n",
              "        0.9279248 ,  0.9279248 ,  0.9279248 ,  0.9279248 ,  2.7382879 ,\n",
              "        1.83310635,  2.7382879 ,  0.9279248 ,  0.9279248 ,  0.9279248 ,\n",
              "        0.9279248 , -0.88243829,  0.02274326, -0.88243829,  0.9279248 ,\n",
              "       -0.88243829,  0.9279248 , -0.88243829, -0.88243829,  0.02274326,\n",
              "       -0.88243829,  0.9279248 , -0.88243829, -0.88243829, -0.88243829,\n",
              "       -0.88243829, -0.88243829, -0.88243829, -0.88243829, -0.88243829,\n",
              "        0.02274326,  0.9279248 , -0.88243829,  0.9279248 , -0.88243829,\n",
              "        0.9279248 ,  0.9279248 , -0.88243829, -0.88243829,  0.9279248 ,\n",
              "       -0.88243829,  0.9279248 ,  0.9279248 , -0.88243829, -0.88243829,\n",
              "        0.9279248 , -0.88243829, -0.88243829, -0.88243829,  0.9279248 ,\n",
              "       -0.88243829, -0.88243829, -0.88243829,  0.9279248 , -0.88243829,\n",
              "        0.9279248 ,  0.9279248 ,  0.9279248 ,  0.9279248 ])"
            ]
          },
          "metadata": {},
          "execution_count": 22
        }
      ]
    },
    {
      "cell_type": "code",
      "source": [
        "from sklearn .model_selection import train_test_split\n",
        "X_train,X_test,y_train,y_test=train_test_split(X,y,test_size=1/2,random_state=0)"
      ],
      "metadata": {
        "id": "rqD8ufU8_RSE"
      },
      "execution_count": null,
      "outputs": []
    },
    {
      "cell_type": "code",
      "source": [
        "X_train= X_train.reshape(-1, 1)\n",
        "X_test= X_test.reshape(-1, 1)"
      ],
      "metadata": {
        "id": "ybeYgjx__ZmL"
      },
      "execution_count": null,
      "outputs": []
    },
    {
      "cell_type": "code",
      "source": [
        "from sklearn.linear_model import LinearRegression\n",
        "regressor= LinearRegression()\n",
        "regressor.fit(X_train,y_train)"
      ],
      "metadata": {
        "colab": {
          "base_uri": "https://localhost:8080/",
          "height": 74
        },
        "id": "NS_sTGTi_d1h",
        "outputId": "a26ba73f-bc8e-42a4-86e5-ac8ecf111fb8"
      },
      "execution_count": null,
      "outputs": [
        {
          "output_type": "execute_result",
          "data": {
            "text/plain": [
              "LinearRegression()"
            ],
            "text/html": [
              "<style>#sk-container-id-1 {color: black;background-color: white;}#sk-container-id-1 pre{padding: 0;}#sk-container-id-1 div.sk-toggleable {background-color: white;}#sk-container-id-1 label.sk-toggleable__label {cursor: pointer;display: block;width: 100%;margin-bottom: 0;padding: 0.3em;box-sizing: border-box;text-align: center;}#sk-container-id-1 label.sk-toggleable__label-arrow:before {content: \"▸\";float: left;margin-right: 0.25em;color: #696969;}#sk-container-id-1 label.sk-toggleable__label-arrow:hover:before {color: black;}#sk-container-id-1 div.sk-estimator:hover label.sk-toggleable__label-arrow:before {color: black;}#sk-container-id-1 div.sk-toggleable__content {max-height: 0;max-width: 0;overflow: hidden;text-align: left;background-color: #f0f8ff;}#sk-container-id-1 div.sk-toggleable__content pre {margin: 0.2em;color: black;border-radius: 0.25em;background-color: #f0f8ff;}#sk-container-id-1 input.sk-toggleable__control:checked~div.sk-toggleable__content {max-height: 200px;max-width: 100%;overflow: auto;}#sk-container-id-1 input.sk-toggleable__control:checked~label.sk-toggleable__label-arrow:before {content: \"▾\";}#sk-container-id-1 div.sk-estimator input.sk-toggleable__control:checked~label.sk-toggleable__label {background-color: #d4ebff;}#sk-container-id-1 div.sk-label input.sk-toggleable__control:checked~label.sk-toggleable__label {background-color: #d4ebff;}#sk-container-id-1 input.sk-hidden--visually {border: 0;clip: rect(1px 1px 1px 1px);clip: rect(1px, 1px, 1px, 1px);height: 1px;margin: -1px;overflow: hidden;padding: 0;position: absolute;width: 1px;}#sk-container-id-1 div.sk-estimator {font-family: monospace;background-color: #f0f8ff;border: 1px dotted black;border-radius: 0.25em;box-sizing: border-box;margin-bottom: 0.5em;}#sk-container-id-1 div.sk-estimator:hover {background-color: #d4ebff;}#sk-container-id-1 div.sk-parallel-item::after {content: \"\";width: 100%;border-bottom: 1px solid gray;flex-grow: 1;}#sk-container-id-1 div.sk-label:hover label.sk-toggleable__label {background-color: #d4ebff;}#sk-container-id-1 div.sk-serial::before {content: \"\";position: absolute;border-left: 1px solid gray;box-sizing: border-box;top: 0;bottom: 0;left: 50%;z-index: 0;}#sk-container-id-1 div.sk-serial {display: flex;flex-direction: column;align-items: center;background-color: white;padding-right: 0.2em;padding-left: 0.2em;position: relative;}#sk-container-id-1 div.sk-item {position: relative;z-index: 1;}#sk-container-id-1 div.sk-parallel {display: flex;align-items: stretch;justify-content: center;background-color: white;position: relative;}#sk-container-id-1 div.sk-item::before, #sk-container-id-1 div.sk-parallel-item::before {content: \"\";position: absolute;border-left: 1px solid gray;box-sizing: border-box;top: 0;bottom: 0;left: 50%;z-index: -1;}#sk-container-id-1 div.sk-parallel-item {display: flex;flex-direction: column;z-index: 1;position: relative;background-color: white;}#sk-container-id-1 div.sk-parallel-item:first-child::after {align-self: flex-end;width: 50%;}#sk-container-id-1 div.sk-parallel-item:last-child::after {align-self: flex-start;width: 50%;}#sk-container-id-1 div.sk-parallel-item:only-child::after {width: 0;}#sk-container-id-1 div.sk-dashed-wrapped {border: 1px dashed gray;margin: 0 0.4em 0.5em 0.4em;box-sizing: border-box;padding-bottom: 0.4em;background-color: white;}#sk-container-id-1 div.sk-label label {font-family: monospace;font-weight: bold;display: inline-block;line-height: 1.2em;}#sk-container-id-1 div.sk-label-container {text-align: center;}#sk-container-id-1 div.sk-container {/* jupyter's `normalize.less` sets `[hidden] { display: none; }` but bootstrap.min.css set `[hidden] { display: none !important; }` so we also need the `!important` here to be able to override the default hidden behavior on the sphinx rendered scikit-learn.org. See: https://github.com/scikit-learn/scikit-learn/issues/21755 */display: inline-block !important;position: relative;}#sk-container-id-1 div.sk-text-repr-fallback {display: none;}</style><div id=\"sk-container-id-1\" class=\"sk-top-container\"><div class=\"sk-text-repr-fallback\"><pre>LinearRegression()</pre><b>In a Jupyter environment, please rerun this cell to show the HTML representation or trust the notebook. <br />On GitHub, the HTML representation is unable to render, please try loading this page with nbviewer.org.</b></div><div class=\"sk-container\" hidden><div class=\"sk-item\"><div class=\"sk-estimator sk-toggleable\"><input class=\"sk-toggleable__control sk-hidden--visually\" id=\"sk-estimator-id-1\" type=\"checkbox\" checked><label for=\"sk-estimator-id-1\" class=\"sk-toggleable__label sk-toggleable__label-arrow\">LinearRegression</label><div class=\"sk-toggleable__content\"><pre>LinearRegression()</pre></div></div></div></div></div>"
            ]
          },
          "metadata": {},
          "execution_count": 25
        }
      ]
    },
    {
      "cell_type": "code",
      "source": [
        "y_pred=regressor.predict(X_test)\n",
        "y_pred"
      ],
      "metadata": {
        "colab": {
          "base_uri": "https://localhost:8080/"
        },
        "id": "GDB_GhlK_iY0",
        "outputId": "26aa615d-5c2a-4122-b6f2-4ec21b4b37e5"
      },
      "execution_count": null,
      "outputs": [
        {
          "output_type": "execute_result",
          "data": {
            "text/plain": [
              "array([445663.54166667, 445663.54166667, 445663.54166667, 777715.37622549,\n",
              "       667031.43137255, 445663.54166667, 445663.54166667, 667031.43137255,\n",
              "       445663.54166667, 445663.54166667, 667031.43137255, 445663.54166667,\n",
              "       445663.54166667, 777715.37622549, 445663.54166667, 667031.43137255,\n",
              "       667031.43137255, 667031.43137255, 445663.54166667, 445663.54166667,\n",
              "       556347.48651961, 888399.32107843, 445663.54166667, 445663.54166667,\n",
              "       667031.43137255, 888399.32107843, 445663.54166667, 445663.54166667,\n",
              "       445663.54166667, 445663.54166667, 445663.54166667, 445663.54166667,\n",
              "       445663.54166667, 445663.54166667, 777715.37622549, 445663.54166667,\n",
              "       445663.54166667, 445663.54166667, 445663.54166667, 667031.43137255,\n",
              "       445663.54166667, 445663.54166667, 445663.54166667, 445663.54166667,\n",
              "       888399.32107843, 667031.43137255, 445663.54166667, 667031.43137255,\n",
              "       888399.32107843, 445663.54166667, 667031.43137255, 667031.43137255,\n",
              "       445663.54166667, 888399.32107843, 667031.43137255, 445663.54166667,\n",
              "       445663.54166667, 445663.54166667, 445663.54166667, 445663.54166667,\n",
              "       667031.43137255, 667031.43137255, 445663.54166667, 445663.54166667,\n",
              "       556347.48651961, 445663.54166667, 445663.54166667, 445663.54166667,\n",
              "       556347.48651961, 445663.54166667, 667031.43137255, 445663.54166667,\n",
              "       667031.43137255, 667031.43137255, 667031.43137255, 667031.43137255,\n",
              "       445663.54166667, 556347.48651961, 556347.48651961, 445663.54166667,\n",
              "       445663.54166667, 667031.43137255, 445663.54166667, 777715.37622549,\n",
              "       445663.54166667, 445663.54166667, 667031.43137255, 667031.43137255,\n",
              "       556347.48651961, 667031.43137255, 445663.54166667, 445663.54166667,\n",
              "       667031.43137255, 445663.54166667, 445663.54166667, 445663.54166667,\n",
              "       556347.48651961, 556347.48651961, 667031.43137255, 445663.54166667])"
            ]
          },
          "metadata": {},
          "execution_count": 26
        }
      ]
    },
    {
      "cell_type": "code",
      "source": [
        "print(regressor.intercept_)\n",
        "print(regressor.coef_)"
      ],
      "metadata": {
        "colab": {
          "base_uri": "https://localhost:8080/"
        },
        "id": "KLPpxILG_kfB",
        "outputId": "a77eed4f-593b-4875-877f-68dcba5c3201"
      },
      "execution_count": null,
      "outputs": [
        {
          "output_type": "stream",
          "name": "stdout",
          "text": [
            "553566.4828800866\n",
            "[122278.17163143]\n"
          ]
        }
      ]
    },
    {
      "cell_type": "code",
      "source": [
        "print(X_train.shape)\n",
        "print(X_test.shape)\n",
        "print(y_train.shape)\n",
        "print(y_test.shape)\n",
        "from sklearn import metrics\n",
        "print ('MAE:', metrics.mean_absolute_error(y_test, y_pred))\n",
        "print ('MSE:', metrics.mean_squared_error(y_test, y_pred))\n",
        "print ('RMSE:', np.sqrt(metrics.mean_squared_error(y_test, y_pred)))\n",
        "print(metrics.r2_score(y_test,y_pred))"
      ],
      "metadata": {
        "colab": {
          "base_uri": "https://localhost:8080/"
        },
        "id": "OWS81aSl_qUu",
        "outputId": "2849f505-6482-474f-9fe5-5114f40325b8"
      },
      "execution_count": null,
      "outputs": [
        {
          "output_type": "stream",
          "name": "stdout",
          "text": [
            "(99, 1)\n",
            "(100, 1)\n",
            "(99,)\n",
            "(100,)\n",
            "MAE: 189424.0446323529\n",
            "MSE: 71544179808.424\n",
            "RMSE: 267477.4379427618\n",
            "0.05613760380819377\n"
          ]
        }
      ]
    },
    {
      "cell_type": "code",
      "source": [
        "# set initial values for parameters (theta0 and theta1)\n",
        "theta0 = 0\n",
        "theta1 = 0\n",
        "\n",
        "# set the learning rate and number of iterations\n",
        "learning_rate = 0.01\n",
        "num_iterations = 1000"
      ],
      "metadata": {
        "id": "tjVoqogm_wbw"
      },
      "execution_count": null,
      "outputs": []
    },
    {
      "cell_type": "code",
      "source": [
        "# perform gradient descent\n",
        "m = len(y)\n",
        "for i in range(num_iterations):\n",
        "    h = theta0 + theta1*X\n",
        "    cost = np.sum((h - y)**2) / (2*m)\n",
        "    d_theta0 = np.sum(h - y) / m\n",
        "    d_theta1 = np.sum((h - y)*X) / m\n",
        "    theta0 = theta0 - learning_rate*d_theta0\n",
        "    theta1 = theta1 - learning_rate*d_theta1"
      ],
      "metadata": {
        "id": "dsPFndr8_05N"
      },
      "execution_count": null,
      "outputs": []
    },
    {
      "cell_type": "code",
      "source": [
        "# perform gradient descent\n",
        "m = len(y)\n",
        "for i in range(num_iterations):\n",
        "    h = theta0 + theta1*X\n",
        "    cost = np.sum((h - y)**2) / (2*m)\n",
        "    d_theta0 = np.sum(h - y) / m\n",
        "    d_theta1 = np.sum((h - y)*X) / m\n",
        "    theta0 = theta0 - learning_rate*d_theta0\n",
        "    theta1 = theta1 - learning_rate*d_theta1"
      ],
      "metadata": {
        "id": "p8oy9rHt_2mI"
      },
      "execution_count": null,
      "outputs": []
    },
    {
      "cell_type": "code",
      "source": [
        "# print the final values of parameters\n",
        "print(\"theta0: \", theta0)\n",
        "print(\"theta1: \", theta1)"
      ],
      "metadata": {
        "colab": {
          "base_uri": "https://localhost:8080/"
        },
        "id": "2VtZgpzf__oC",
        "outputId": "429eb120-999c-40e3-be0c-49b6ff553b58"
      },
      "execution_count": null,
      "outputs": [
        {
          "output_type": "stream",
          "name": "stdout",
          "text": [
            "theta0:  539609.6120596258\n",
            "theta1:  97211.84524962786\n"
          ]
        }
      ]
    },
    {
      "cell_type": "code",
      "source": [
        "# plot the data and the linear regression line\n",
        "plt.scatter(X, y)\n",
        "plt.plot(X, theta0 + theta1*X, color='red')\n",
        "plt.xlabel('floors')\n",
        "plt.ylabel('Price')\n",
        "plt.show()"
      ],
      "metadata": {
        "colab": {
          "base_uri": "https://localhost:8080/",
          "height": 465
        },
        "id": "_j4ahDxSAC0b",
        "outputId": "7a11f3f9-d622-4dbd-c162-05e86891aeb0"
      },
      "execution_count": null,
      "outputs": [
        {
          "output_type": "display_data",
          "data": {
            "text/plain": [
              "<Figure size 640x480 with 1 Axes>"
            ],
            "image/png": "[encoded data removed]"
          },
          "metadata": {}
        }
      ]
    },
    {
      "cell_type": "code",
      "source": [
        "# predict the house price for a given size\n",
        "floors = 2\n",
        "normalized_floors = (floors - np.mean(data['floors'])) / np.std(data['floors'])\n",
        "price = theta0 + theta1*normalized_floors\n",
        "print(\"Predicted price for size {}: Rs: {}\".format(floors, price))"
      ],
      "metadata": {
        "id": "xMEEUHkiAHPi",
        "outputId": "9a6d671f-e3a3-482e-df9f-48f12dd5da5a",
        "colab": {
          "base_uri": "https://localhost:8080/"
        }
      },
      "execution_count": null,
      "outputs": [
        {
          "output_type": "stream",
          "name": "stdout",
          "text": [
            "Predicted price for size 2: Rs: 629814.8945474398\n"
          ]
        }
      ]
    }
  ],
  "metadata": {
    "colab": {
      "provenance": [],
      "authorship_tag": "ABX9TyPh5iiMxep4ybbU9SA1HF4X",
      "include_colab_link": true
    },
    "kernelspec": {
      "display_name": "Python 3",
      "name": "python3"
    },
    "language_info": {
      "name": "python"
    }
  },
  "nbformat": 4,
  "nbformat_minor": 0
}